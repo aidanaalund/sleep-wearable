{
 "cells": [
  {
   "cell_type": "markdown",
   "id": "c86b17ab",
   "metadata": {},
   "source": [
    "\n",
    "# EEG Dataset with ML Notebook Example\n"
   ]
  },
  {
   "cell_type": "markdown",
   "id": "e493f8bb",
   "metadata": {},
   "source": [
    "## Downloads \n",
    "### (run this cell if you don't have the dataset already)"
   ]
  },
  {
   "cell_type": "code",
   "execution_count": 8,
   "id": "0142ace7",
   "metadata": {},
   "outputs": [
    {
     "name": "stdout",
     "output_type": "stream",
     "text": [
      "Found existing dataset at: ds005555\\ds005555-main\\sub-1\n",
      "eeg\n",
      "sub-1_scans.tsv\n"
     ]
    }
   ],
   "source": [
    "import os\n",
    "import requests\n",
    "import zipfile\n",
    "import io\n",
    "\n",
    "dataset_dir = \"ds005555\"\n",
    "\n",
    "def find_sub1(base):\n",
    "    # check common extraction locations\n",
    "    candidates = [\n",
    "        os.path.join(base, 'sub-1'),\n",
    "        os.path.join(base, 'ds005555-main', 'sub-1'),\n",
    "        os.path.join(base, 'ds005555', 'sub-1')\n",
    "    ]\n",
    "    for p in candidates:\n",
    "        if os.path.isdir(p) and any(os.scandir(p)):\n",
    "            return p\n",
    "    return None\n",
    "\n",
    "# If sub-1 already exists, skip download\n",
    "existing = find_sub1(dataset_dir)\n",
    "if existing:\n",
    "    print(f\"Found existing dataset at: {existing}\")\n",
    "    # print a few files to verify\n",
    "    for i, entry in enumerate(sorted(os.listdir(existing))[:20], start=1):\n",
    "        print(entry)\n",
    "else:\n",
    "    print('Dataset not found locally — downloading...')\n",
    "    url = \"https://github.com/OpenNeuroDatasets/ds005555/archive/refs/heads/main.zip\"\n",
    "    r = requests.get(url, stream=True)\n",
    "    r.raise_for_status()\n",
    "    z = zipfile.ZipFile(io.BytesIO(r.content))\n",
    "    z.extractall(dataset_dir)\n",
    "    print(\"Extracted files to ./ds005555/\")\n",
    "    # try locating sub-1 after extraction\n",
    "    extracted = find_sub1(dataset_dir)\n",
    "    if extracted:\n",
    "        print(f\"Located sub-1 at: {extracted}\")\n",
    "        for entry in sorted(os.listdir(extracted))[:20]:\n",
    "            print(entry)\n",
    "    else:\n",
    "        print('Warning: sub-1 not found after extraction. Check repo contents.')"
   ]
  },
  {
   "cell_type": "markdown",
   "id": "9c4b4158",
   "metadata": {},
   "source": [
    "## Code"
   ]
  },
  {
   "cell_type": "code",
   "execution_count": 11,
   "id": "5d164055",
   "metadata": {},
   "outputs": [
    {
     "name": "stdout",
     "output_type": "stream",
     "text": [
      "Hello Senior Design!\n"
     ]
    }
   ],
   "source": [
    "import pandas as pd\n",
    "\n",
    "path = os.path.join('ds005555', 'ds005555-main', 'sub-1', 'eeg', 'sub-1_task-Sleep_acq-headband_events.tsv')\n",
    "\n",
    "data = pd.read_csv(path, sep = '\\t')\n",
    "\n",
    "print(\"Hello Senior Design!\")"
   ]
  }
 ],
 "metadata": {
  "kernelspec": {
   "display_name": "base",
   "language": "python",
   "name": "python3"
  },
  "language_info": {
   "codemirror_mode": {
    "name": "ipython",
    "version": 3
   },
   "file_extension": ".py",
   "mimetype": "text/x-python",
   "name": "python",
   "nbconvert_exporter": "python",
   "pygments_lexer": "ipython3",
   "version": "3.13.5"
  }
 },
 "nbformat": 4,
 "nbformat_minor": 5
}
