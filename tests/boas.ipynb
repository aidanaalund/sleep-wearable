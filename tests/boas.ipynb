{
 "cells": [
  {
   "cell_type": "markdown",
   "id": "c86b17ab",
   "metadata": {},
   "source": [
    "\n",
    "# EEG Dataset with ML Notebook Example\n"
   ]
  },
  {
   "cell_type": "markdown",
   "id": "e493f8bb",
   "metadata": {},
   "source": [
    "## Downloads "
   ]
  },
  {
   "cell_type": "code",
   "execution_count": 8,
   "id": "0142ace7",
   "metadata": {},
   "outputs": [
    {
     "name": "stdout",
     "output_type": "stream",
     "text": [
      "Found existing dataset at: ds005555\\ds005555-main\\sub-1\n",
      "eeg\n",
      "sub-1_scans.tsv\n"
     ]
    }
   ],
   "source": [
    "import os\n",
    "import requests\n",
    "import zipfile\n",
    "import io\n",
    "\n",
    "dataset_dir = \"ds005555\"\n",
    "\n",
    "def find_sub1(base):\n",
    "    # check common extraction locations\n",
    "    candidates = [\n",
    "        os.path.join(base, 'sub-1'),\n",
    "        os.path.join(base, 'ds005555-main', 'sub-1'),\n",
    "        os.path.join(base, 'ds005555', 'sub-1')\n",
    "    ]\n",
    "    for p in candidates:\n",
    "        if os.path.isdir(p) and any(os.scandir(p)):\n",
    "            return p\n",
    "    return None\n",
    "\n",
    "# If sub-1 already exists, skip download\n",
    "existing = find_sub1(dataset_dir)\n",
    "if existing:\n",
    "    print(f\"Found existing dataset at: {existing}\")\n",
    "    # print a few files to verify\n",
    "    for i, entry in enumerate(sorted(os.listdir(existing))[:20], start=1):\n",
    "        print(entry)\n",
    "else:\n",
    "    print('Dataset not found locally — downloading...')\n",
    "    url = \"https://github.com/OpenNeuroDatasets/ds005555/archive/refs/heads/main.zip\"\n",
    "    r = requests.get(url, stream=True)\n",
    "    r.raise_for_status()\n",
    "    z = zipfile.ZipFile(io.BytesIO(r.content))\n",
    "    z.extractall(dataset_dir)\n",
    "    print(\"Extracted files to ./ds005555/\")\n",
    "    # try locating sub-1 after extraction\n",
    "    extracted = find_sub1(dataset_dir)\n",
    "    if extracted:\n",
    "        print(f\"Located sub-1 at: {extracted}\")\n",
    "        for entry in sorted(os.listdir(extracted))[:20]:\n",
    "            print(entry)\n",
    "    else:\n",
    "        print('Warning: sub-1 not found after extraction. Check repo contents.')"
   ]
  },
  {
   "cell_type": "markdown",
   "id": "9c4b4158",
   "metadata": {},
   "source": [
    "## Code"
   ]
  },
  {
   "cell_type": "code",
   "execution_count": 18,
   "id": "5d164055",
   "metadata": {},
   "outputs": [
    {
     "name": "stdout",
     "output_type": "stream",
     "text": [
      "     onset  duration  begsample  endsample  offset  stage_hum  stage_ai\n",
      "0        0        30          1       7680       0          3         3\n",
      "1       30        30       7681      15360       0          3         3\n",
      "2       60        30      15361      23040       0          3         3\n",
      "3       90        30      23041      30720       0          3         3\n",
      "4      120        30      30721      38400       0          3         3\n",
      "..     ...       ...        ...        ...     ...        ...       ...\n",
      "910  27300        30    6988801    6996480       0          0         0\n",
      "911  27330        30    6996481    7004160       0          0         0\n",
      "912  27360        30    7004161    7011840       0          0         0\n",
      "913  27390        30    7011841    7019520       0          0         0\n",
      "914  27420        30    7019521    7027200       0          0         0\n",
      "\n",
      "[915 rows x 7 columns]\n",
      "\n",
      " {'onset': {'Description': 'Start of epoch in seconds', 'HED': '(Label/onset, ID/#)'}, 'duration': {'Description': 'Duration of epoch in seconds (always 30)', 'HED': '(Label/duration, ID/#)'}, 'endsample': {'Description': 'End of epoch in samples', 'HED': '(Label/endsample, ID/#)'}, 'stage_ai': {'Description': 'Sleep stage of epoch according to Bitbrain AI-based automatic scoring, based on PSG data', 'HED': '(Label/stage_ai, ID/#)'}, 'begsample': {'Description': 'Start of epoch in samples', 'HED': '(Label/begsample, ID/#)'}, 'stage_hum': {'Description': 'Sleep stage of epoch according to the majority vote of 3 expert human scorers, based on PSG data', 'HED': '(Label/stage_hum, ID/#)'}, 'offset': {'Description': 'Offset of marker to epoch start (always 0, artifact of using Fieldtrip BIDS export)', 'HED': '(Label/offset, ID/#)'}}\n"
     ]
    }
   ],
   "source": [
    "import pandas as pd\n",
    "import json\n",
    "\n",
    "path = os.path.join('ds005555', 'ds005555-main', 'sub-1', 'eeg')\n",
    "data = pd.read_csv(os.path.join(path, 'sub-1_task-Sleep_acq-psg_events.tsv'), sep = '\\t')\n",
    "print(data)\n",
    "\n",
    "with open(os.path.join(path, 'sub-1_task-Sleep_acq-psg_events.json')) as json_data:\n",
    "    d = json.load(json_data)\n",
    "    json_data.close()\n",
    "    print('\\n', d)"
   ]
  }
 ],
 "metadata": {
  "kernelspec": {
   "display_name": "base",
   "language": "python",
   "name": "python3"
  },
  "language_info": {
   "codemirror_mode": {
    "name": "ipython",
    "version": 3
   },
   "file_extension": ".py",
   "mimetype": "text/x-python",
   "name": "python",
   "nbconvert_exporter": "python",
   "pygments_lexer": "ipython3",
   "version": "3.13.5"
  }
 },
 "nbformat": 4,
 "nbformat_minor": 5
}
